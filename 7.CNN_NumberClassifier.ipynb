{
 "cells": [
  {
   "cell_type": "markdown",
   "metadata": {},
   "source": [
    "### Convolutional Neural Network로 숫자분류기 구현하기"
   ]
  },
  {
   "cell_type": "code",
   "execution_count": 18,
   "metadata": {},
   "outputs": [],
   "source": [
    "import tensorflow as tf\n",
    "from tensorflow.examples.tutorials.mnist import input_data\n",
    "import os"
   ]
  },
  {
   "cell_type": "code",
   "execution_count": 3,
   "metadata": {},
   "outputs": [
    {
     "name": "stdout",
     "output_type": "stream",
     "text": [
      "Extracting data/train-images-idx3-ubyte.gz\n",
      "Extracting data/train-labels-idx1-ubyte.gz\n",
      "Extracting data/t10k-images-idx3-ubyte.gz\n",
      "Extracting data/t10k-labels-idx1-ubyte.gz\n",
      "MNIST Ready.\n"
     ]
    }
   ],
   "source": [
    "mnist = input_data.read_data_sets('data/', one_hot=True)\n",
    "trainimg = mnist.train.images\n",
    "trainlabel = mnist.train.labels\n",
    "testimg = mnist.test.images\n",
    "testlabel = mnist.test.labels\n",
    "print(\"MNIST Ready.\")"
   ]
  },
  {
   "cell_type": "markdown",
   "metadata": {},
   "source": [
    "##### 1. Define Model"
   ]
  },
  {
   "cell_type": "code",
   "execution_count": 4,
   "metadata": {
    "scrolled": true
   },
   "outputs": [
    {
     "name": "stdout",
     "output_type": "stream",
     "text": [
      "Network Ready!!\n"
     ]
    }
   ],
   "source": [
    "n_input = 784\n",
    "n_channel = 64 # convolution filter의 갯수\n",
    "n_classes = 10\n",
    "\n",
    "# input and output\n",
    "x = tf.placeholder(dtype='float', shape=[None, n_input])\n",
    "y = tf.placeholder(dtype='float', shape=[None, n_classes])\n",
    "\n",
    "# Network Parameters\n",
    "# CNN에서는 Convolutional kernel이 있어야함.\n",
    "stddev = 0.1\n",
    "weights = {\n",
    "    # convolution layer 2개 , dense layer 1개\n",
    "    'c1' : tf.Variable(initial_value=tf.random_normal(shape=[3,3,1,n_channel], stddev=stddev)),\n",
    "    'c2' : tf.Variable(initial_value=tf.random_normal(shape=[3,3,n_channel,128], stddev=stddev)),\n",
    "    'd1' : tf.Variable(initial_value=tf.random_normal(shape=[7*7*128, n_classes], stddev=stddev))\n",
    "}\n",
    "biases = {\n",
    "    # convolution layer 2개 , dense layer 1개\n",
    "    'c1' : tf.Variable(initial_value=tf.random_normal(shape=[n_channel],stddev=stddev)),\n",
    "    'c2' : tf.Variable(initial_value=tf.random_normal(shape=[128], stddev=stddev)),\n",
    "    'd1' : tf.Variable(initial_value=tf.random_normal(shape=[n_classes], stddev=stddev))\n",
    "}\n",
    "print(\"Network Ready!!\")"
   ]
  },
  {
   "cell_type": "markdown",
   "metadata": {},
   "source": [
    "##### 2. Define Graph "
   ]
  },
  {
   "cell_type": "code",
   "execution_count": 6,
   "metadata": {},
   "outputs": [
    {
     "name": "stdout",
     "output_type": "stream",
     "text": [
      "Function Ready!!\n"
     ]
    }
   ],
   "source": [
    "def CNN(_x, _w, _b):\n",
    "    # Reshape\n",
    "    _x_r = tf.reshape(_x, shape=[-1,28,28,1])\n",
    "    # Convolution\n",
    "    _conv1 = tf.nn.conv2d(_x_r, _w['c1'], strides=[1,1,1,1], padding='SAME')\n",
    "    # Add Bias\n",
    "    _conv2 = tf.nn.bias_add(_conv1, _b['c1'])\n",
    "    # ReLU\n",
    "    _conv3 = tf.nn.relu(_conv2)\n",
    "    # Max Pool\n",
    "    # Non-overlapping\n",
    "    _pool = tf.nn.max_pool(_conv3, ksize=[1,2,2,1], strides=[1,2,2,1], padding='SAME')\n",
    "    \n",
    "    # 2nd Convolutional Layer\n",
    "    _temp = tf.nn.conv2d(_pool, _w['c2'], strides=[1,1,1,1], padding='SAME')\n",
    "    _temp = tf.nn.bias_add(_temp, _b['c2'])\n",
    "    _temp = tf.nn.relu(_temp)\n",
    "    _temp = tf.nn.max_pool(_temp, ksize=[1,2,2,1], strides=[1,2,2,1], padding='SAME')\n",
    "    \n",
    "    # Vectorize (한 줄로 편다.)\n",
    "    _dense = tf.reshape(_temp, shape=[-1, _w['d1'].get_shape().as_list()[0]])\n",
    "    # Dense\n",
    "    _logit = tf.add(tf.matmul(_dense, _w['d1']), _b['d1'])\n",
    "    # 결과물을 dict 형태로 출력하게 되면\n",
    "    # debugging에 용이하다!! (중요)\n",
    "    _out = {\n",
    "        'x_r':_x_r, 'conv1':_conv1, 'conv2' : _conv2, 'conv3': _conv3,\n",
    "        'pool': _pool, 'dense': _dense, 'logit':_logit\n",
    "    }\n",
    "    return _out\n",
    "\n",
    "# Prediction\n",
    "cnnout = CNN(x,weights, biases)\n",
    "\n",
    "# Loss and Optimizer\n",
    "cost = tf.reduce_mean(tf.nn.softmax_cross_entropy_with_logits_v2(labels=y, logits=cnnout['logit']))\n",
    "optimizer = tf.train.AdamOptimizer(learning_rate=0.001).minimize(cost)\n",
    "correct = tf.equal(tf.argmax(cnnout['logit'], 1), tf.argmax(y, 1))\n",
    "accuracy = tf.reduce_mean(tf.cast(correct,'float'))\n",
    "\n",
    "# Initialize\n",
    "init = tf.global_variables_initializer()\n",
    "print(\"Function Ready!!\")"
   ]
  },
  {
   "cell_type": "markdown",
   "metadata": {},
   "source": [
    "##### 3. Saver"
   ]
  },
  {
   "cell_type": "code",
   "execution_count": 19,
   "metadata": {},
   "outputs": [
    {
     "name": "stdout",
     "output_type": "stream",
     "text": [
      "Saver Ready!!\n"
     ]
    }
   ],
   "source": [
    "savedir = \"nets/cnn_mnist_simple/\"\n",
    "saver = tf.train.Saver(max_to_keep=3) # 최근 3개까지 저장하겠다.\n",
    "save_step = 4\n",
    "if not os.path.exists(savedir):\n",
    "    os.makedirs(savedir)\n",
    "print(\"Saver Ready!!\")"
   ]
  },
  {
   "cell_type": "markdown",
   "metadata": {},
   "source": [
    "##### 4. Run"
   ]
  },
  {
   "cell_type": "code",
   "execution_count": 10,
   "metadata": {},
   "outputs": [
    {
     "name": "stdout",
     "output_type": "stream",
     "text": [
      "Epoch: 004/020 cost: 0.024586656\n",
      "Train Accuracy: 1.000\n",
      "Test Accuracy: 1.000\n",
      "[nets/cnn_mnist_simple/net-4.ckpt]Saved\n",
      "Epoch: 008/020 cost: 0.008431986\n",
      "Train Accuracy: 0.990\n",
      "Test Accuracy: 0.990\n",
      "[nets/cnn_mnist_simple/net-8.ckpt]Saved\n",
      "Epoch: 012/020 cost: 0.003221259\n",
      "Train Accuracy: 1.000\n",
      "Test Accuracy: 0.980\n",
      "[nets/cnn_mnist_simple/net-12.ckpt]Saved\n",
      "Epoch: 016/020 cost: 0.001810243\n",
      "Train Accuracy: 1.000\n",
      "Test Accuracy: 0.990\n",
      "[nets/cnn_mnist_simple/net-16.ckpt]Saved\n",
      "Epoch: 020/020 cost: 0.001027976\n",
      "Train Accuracy: 1.000\n",
      "Test Accuracy: 0.990\n",
      "[nets/cnn_mnist_simple/net-20.ckpt]Saved\n",
      "Optimization Finished!!!\n"
     ]
    }
   ],
   "source": [
    "training_epochs = 20\n",
    "batch_size = 100\n",
    "display_step = 4\n",
    "\n",
    "# Launch the Graph\n",
    "sess = tf.Session()\n",
    "sess.run(init)\n",
    "\n",
    "# Optimizer\n",
    "for epoch in range(training_epochs):\n",
    "    avg_cost = 0\n",
    "    total_batch = int(mnist.train.num_examples / batch_size)\n",
    "    # Iteration\n",
    "    for i in range(total_batch):\n",
    "        batch_xs, batch_ys = mnist.train.next_batch(batch_size=batch_size)\n",
    "        feeds = {x: batch_xs, y: batch_ys}\n",
    "        sess.run(optimizer, feed_dict=feeds)\n",
    "        avg_cost += sess.run(cost, feed_dict=feeds)\n",
    "    avg_cost = avg_cost / total_batch\n",
    "    # Display\n",
    "    if (epoch + 1) % display_step == 0:\n",
    "        print(\"Epoch: %03d/%03d cost: %.9f\" % (epoch+1, training_epochs, avg_cost))\n",
    "        feeds = {x: batch_xs, y: batch_ys}\n",
    "        train_acc = sess.run(accuracy, feed_dict=feeds)\n",
    "        print(\"Train Accuracy: %.3f\" % (train_acc))\n",
    "        feeds = {x: mnist.test.images[:100, :], y: mnist.test.labels[:100, :]}\n",
    "        test_acc = sess.run(accuracy, feed_dict=feeds)\n",
    "        print(\"Test Accuracy: %.3f\" % (test_acc))\n",
    "    # Save\n",
    "    if(epoch + 1) % save_step == 0:\n",
    "        savename = savedir + \"net-\" + str(epoch + 1) + \".ckpt\"\n",
    "        saver.save(sess, savename)\n",
    "        print(\"[%s]Saved\" % (savename))\n",
    "print(\"Optimization Finished!!!\")"
   ]
  },
  {
   "cell_type": "markdown",
   "metadata": {},
   "source": [
    "### Restore (불러오기)"
   ]
  },
  {
   "cell_type": "code",
   "execution_count": 20,
   "metadata": {},
   "outputs": [
    {
     "name": "stdout",
     "output_type": "stream",
     "text": [
      "INFO:tensorflow:Restoring parameters from nets/cnn_mnist_simple/net-20.ckpt\n",
      "NETWORK RESTORED\n"
     ]
    }
   ],
   "source": [
    "do_train = 0\n",
    "if do_train == 0:\n",
    "    sess = tf.Session()\n",
    "    epoch = 20\n",
    "    savename = savedir + \"net-\" + str(epoch) + \".ckpt\"\n",
    "    saver.restore(sess, savename)\n",
    "    print (\"NETWORK RESTORED\")\n",
    "else:\n",
    "    print(\"Do Nothing\")"
   ]
  },
  {
   "cell_type": "markdown",
   "metadata": {},
   "source": [
    "### Let's see how CNN works"
   ]
  },
  {
   "cell_type": "code",
   "execution_count": 21,
   "metadata": {},
   "outputs": [],
   "source": [
    "feed_dict = {x : trainimg[0:1,:]}\n",
    "input_r = sess.run(cnnout['x_r'], feed_dict=feed_dict)\n",
    "conv1 = sess.run(cnnout['conv1'], feed_dict=feed_dict)\n",
    "conv2 = sess.run(cnnout['conv2'], feed_dict=feed_dict)\n",
    "conv3 = sess.run(cnnout['conv3'], feed_dict=feed_dict)\n",
    "pool = sess.run(cnnout['pool'], feed_dict=feed_dict)\n",
    "dense = sess.run(cnnout['dense'], feed_dict=feed_dict)\n",
    "out = sess.run(cnnout['logit'], feed_dict=feed_dict)"
   ]
  },
  {
   "cell_type": "markdown",
   "metadata": {},
   "source": [
    "### INPUT"
   ]
  },
  {
   "cell_type": "code",
   "execution_count": 31,
   "metadata": {},
   "outputs": [
    {
     "name": "stdout",
     "output_type": "stream",
     "text": [
      "Size of 'input_r' is (1, 28, 28, 1)\n",
      "Label is 7\n"
     ]
    },
    {
     "data": {
      "image/png": "[encoded data removed]",
      "text/plain": [
       "<Figure size 288x288 with 2 Axes>"
      ]
     },
     "metadata": {},
     "output_type": "display_data"
    }
   ],
   "source": [
    "print(\"Size of 'input_r' is %s\" % (input_r.shape,))\n",
    "label = np.argmax(trainlabel[0,:])\n",
    "print(\"Label is %d\" % (label))\n",
    "\n",
    "# Plot\n",
    "plt.matshow(input_r[0,:,:,0], cmap=plt.get_cmap('gray'))\n",
    "plt.title(\"Label of this image is \" + str(label))\n",
    "plt.colorbar()\n",
    "plt.grid(False)\n",
    "plt.show()"
   ]
  },
  {
   "cell_type": "markdown",
   "metadata": {},
   "source": [
    "### Conv1 (Convolution)"
   ]
  },
  {
   "cell_type": "code",
   "execution_count": 34,
   "metadata": {},
   "outputs": [
    {
     "name": "stdout",
     "output_type": "stream",
     "text": [
      "Size of 'conv1' is (1, 28, 28, 64)\n"
     ]
    },
    {
     "data": {
      "image/png": "[encoded data removed]",
      "text/plain": [
       "<Figure size 288x288 with 2 Axes>"
      ]
     },
     "metadata": {},
     "output_type": "display_data"
    },
    {
     "data": {
      "image/png": "[encoded data removed]",
      "text/plain": [
       "<Figure size 288x288 with 2 Axes>"
      ]
     },
     "metadata": {},
     "output_type": "display_data"
    }
   ],
   "source": [
    "# Let's see 'conv1'\n",
    "print (\"Size of 'conv1' is %s\" % (conv1.shape,))\n",
    "\n",
    "# Plot ! \n",
    "for i in range(2):\n",
    "    plt.matshow(conv1[0, :, :, i], cmap=plt.get_cmap('gray'))\n",
    "    plt.title(str(i) + \"th conv1\")\n",
    "    plt.colorbar()\n",
    "    plt.grid(False)\n",
    "    plt.show()"
   ]
  },
  {
   "cell_type": "markdown",
   "metadata": {},
   "source": [
    "### Conv2 (Conv1 + Bias)\n",
    "- 모양은 똑같은데, colorbar의 range를 바꿔준다.\n",
    "- 이는 ReLU에 영향을 미친다.\n",
    "- bias가 너무 작으면(예를 들어 -100), 대부분의 값이 ReLU를 통과하게 되면 0으로 바뀐다.\n",
    "- **학습이 갑자기 안된다면, bias때문에 ReLU가 0이 되었는지 확인하자.**"
   ]
  },
  {
   "cell_type": "code",
   "execution_count": 36,
   "metadata": {},
   "outputs": [
    {
     "name": "stdout",
     "output_type": "stream",
     "text": [
      "Size of 'conv2' is (1, 28, 28, 64)\n"
     ]
    },
    {
     "data": {
      "image/png": "[encoded data removed]",
      "text/plain": [
       "<Figure size 288x288 with 2 Axes>"
      ]
     },
     "metadata": {},
     "output_type": "display_data"
    },
    {
     "data": {
      "image/png": "[encoded data removed]",
      "text/plain": [
       "<Figure size 288x288 with 2 Axes>"
      ]
     },
     "metadata": {},
     "output_type": "display_data"
    }
   ],
   "source": [
    "# Let's see 'conv2'\n",
    "print (\"Size of 'conv2' is %s\" % (conv2.shape,))\n",
    "\n",
    "# Plot ! \n",
    "for i in range(2):\n",
    "    plt.matshow(conv2[0, :, :, i], cmap=plt.get_cmap('gray'))\n",
    "    plt.title(str(i) + \"th conv2\")\n",
    "    plt.colorbar()\n",
    "    plt.grid(False)\n",
    "    plt.show()"
   ]
  },
  {
   "cell_type": "markdown",
   "metadata": {},
   "source": [
    "### Conv3(Conv2 --> ReLU)"
   ]
  },
  {
   "cell_type": "code",
   "execution_count": 43,
   "metadata": {},
   "outputs": [
    {
     "name": "stdout",
     "output_type": "stream",
     "text": [
      "Size of 'conv3' is (1, 28, 28, 64)\n"
     ]
    },
    {
     "data": {
      "image/png": "[encoded data removed]",
      "text/plain": [
       "<Figure size 288x288 with 2 Axes>"
      ]
     },
     "metadata": {},
     "output_type": "display_data"
    },
    {
     "data": {
      "image/png": "[encoded data removed]",
      "text/plain": [
       "<Figure size 288x288 with 2 Axes>"
      ]
     },
     "metadata": {},
     "output_type": "display_data"
    }
   ],
   "source": [
    "# Let's see 'conv3'\n",
    "print (\"Size of 'conv3' is %s\" % (conv3.shape,))\n",
    "\n",
    "# Plot ! \n",
    "for i in range(2):\n",
    "    plt.matshow(conv3[0, :, :, i], cmap=plt.get_cmap('gray'))\n",
    "    plt.title(str(i) + \"th conv3\")\n",
    "    plt.colorbar()\n",
    "    plt.grid(False)\n",
    "    plt.show()"
   ]
  },
  {
   "cell_type": "markdown",
   "metadata": {},
   "source": [
    "### Pool(Max_pool)"
   ]
  },
  {
   "cell_type": "code",
   "execution_count": 45,
   "metadata": {},
   "outputs": [
    {
     "name": "stdout",
     "output_type": "stream",
     "text": [
      "Size of 'pool' is (1, 14, 14, 64)\n"
     ]
    },
    {
     "data": {
      "image/png": "[encoded data removed]",
      "text/plain": [
       "<Figure size 288x288 with 2 Axes>"
      ]
     },
     "metadata": {},
     "output_type": "display_data"
    },
    {
     "data": {
      "image/png": "[encoded data removed]",
      "text/plain": [
       "<Figure size 288x288 with 2 Axes>"
      ]
     },
     "metadata": {},
     "output_type": "display_data"
    }
   ],
   "source": [
    "# Let's see 'pool'\n",
    "print (\"Size of 'pool' is %s\" % (pool.shape,))\n",
    "\n",
    "# Plot ! \n",
    "for i in range(2):\n",
    "    plt.matshow(pool[0, :, :, i], cmap=plt.get_cmap('gray'))\n",
    "    plt.title(str(i) + \"th pool\")\n",
    "    plt.colorbar()\n",
    "    plt.grid(False)\n",
    "    plt.show()"
   ]
  },
  {
   "cell_type": "markdown",
   "metadata": {},
   "source": [
    "### Dense"
   ]
  },
  {
   "cell_type": "code",
   "execution_count": 46,
   "metadata": {},
   "outputs": [
    {
     "name": "stdout",
     "output_type": "stream",
     "text": [
      "Size of 'dense' is (1, 6272)\n",
      "Size of 'out' is (1, 10)\n"
     ]
    },
    {
     "data": {
      "image/png": "[encoded data removed]",
      "text/plain": [
       "<Figure size 1152x144 with 2 Axes>"
      ]
     },
     "metadata": {},
     "output_type": "display_data"
    }
   ],
   "source": [
    "# Let's see 'dense'\n",
    "print (\"Size of 'dense' is %s\" % (dense.shape,))\n",
    "# Let's see 'out'\n",
    "print (\"Size of 'out' is %s\" % (out.shape,))\n",
    "\n",
    "plt.matshow(out, cmap=plt.get_cmap('gray'))\n",
    "plt.title(\"OUT\")\n",
    "plt.grid(False)\n",
    "plt.colorbar()\n",
    "plt.show()"
   ]
  },
  {
   "cell_type": "markdown",
   "metadata": {},
   "source": [
    "제일 큰 숫자는 7번째!"
   ]
  },
  {
   "cell_type": "markdown",
   "metadata": {},
   "source": [
    "### Check Filters"
   ]
  },
  {
   "cell_type": "code",
   "execution_count": 49,
   "metadata": {},
   "outputs": [
    {
     "name": "stdout",
     "output_type": "stream",
     "text": [
      "Size of 'wc1' is (3, 3, 1, 64)\n"
     ]
    },
    {
     "data": {
      "image/png": "[encoded data removed]",
      "text/plain": [
       "<Figure size 288x288 with 2 Axes>"
      ]
     },
     "metadata": {},
     "output_type": "display_data"
    },
    {
     "data": {
      "image/png": "[encoded data removed]",
      "text/plain": [
       "<Figure size 288x288 with 2 Axes>"
      ]
     },
     "metadata": {},
     "output_type": "display_data"
    }
   ],
   "source": [
    "# Let's see weight! \n",
    "wc1 = sess.run(weights['c1'])\n",
    "print (\"Size of 'wc1' is %s\" % (wc1.shape,))\n",
    "\n",
    "# Plot ! \n",
    "for i in range(2):\n",
    "    plt.matshow(wc1[:, :, 0, i], cmap=plt.get_cmap('gray'))\n",
    "    plt.title(str(i) + \"th conv filter\")\n",
    "    plt.colorbar()\n",
    "    plt.grid(False)\n",
    "    plt.show()"
   ]
  }
 ],
 "metadata": {
  "kernelspec": {
   "display_name": "Python 3",
   "language": "python",
   "name": "python3"
  },
  "language_info": {
   "codemirror_mode": {
    "name": "ipython",
    "version": 3
   },
   "file_extension": ".py",
   "mimetype": "text/x-python",
   "name": "python",
   "nbconvert_exporter": "python",
   "pygments_lexer": "ipython3",
   "version": "3.6.6"
  }
 },
 "nbformat": 4,
 "nbformat_minor": 2
}
