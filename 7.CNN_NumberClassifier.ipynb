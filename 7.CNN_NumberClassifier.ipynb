{
 "cells": [
  {
   "cell_type": "markdown",
   "metadata": {},
   "source": [
    "### Convolutional Neural Network로 숫자분류기 구현하기"
   ]
  },
  {
   "cell_type": "code",
   "execution_count": 1,
   "metadata": {},
   "outputs": [],
   "source": [
    "import tensorflow as tf\n",
    "from tensorflow.examples.tutorials.mnist import input_data"
   ]
  },
  {
   "cell_type": "code",
   "execution_count": 3,
   "metadata": {},
   "outputs": [
    {
     "name": "stdout",
     "output_type": "stream",
     "text": [
      "Extracting data/train-images-idx3-ubyte.gz\n",
      "Extracting data/train-labels-idx1-ubyte.gz\n",
      "Extracting data/t10k-images-idx3-ubyte.gz\n",
      "Extracting data/t10k-labels-idx1-ubyte.gz\n",
      "MNIST Ready.\n"
     ]
    }
   ],
   "source": [
    "mnist = input_data.read_data_sets('data/', one_hot=True)\n",
    "trainimg = mnist.train.images\n",
    "trainlabel = mnist.train.labels\n",
    "testimg = mnist.test.images\n",
    "testlabel = mnist.test.labels\n",
    "print(\"MNIST Ready.\")"
   ]
  },
  {
   "cell_type": "markdown",
   "metadata": {},
   "source": [
    "##### 1. Define Model"
   ]
  },
  {
   "cell_type": "code",
   "execution_count": 4,
   "metadata": {},
   "outputs": [
    {
     "name": "stdout",
     "output_type": "stream",
     "text": [
      "Network Ready!!\n"
     ]
    }
   ],
   "source": [
    "n_input = 784\n",
    "n_channel = 64\n",
    "n_classes = 10\n",
    "\n",
    "# input and output\n",
    "x = tf.placeholder(dtype='float', shape=[None, n_input])\n",
    "y = tf.placeholder(dtype='float', shape=[None, n_classes])\n",
    "\n",
    "# Network Parameters\n",
    "stddev = 0.1\n",
    "weights = {\n",
    "    # convolution 2개 , dense layer 1개\n",
    "    'c1' : tf.Variable(initial_value=tf.random_normal(shape=[3,3,1,n_channel], stddev=stddev)),\n",
    "    'c2' : tf.Variable(initial_value=tf.random_normal(shape=[3,3,n_channel,128], stddev=stddev)),\n",
    "    'd1' : tf.Variable(initial_value=tf.random_normal(shape=[7*7*128, n_classes], stddev=stddev))\n",
    "}\n",
    "biases = {\n",
    "    # convolution 2개 , dense layer 1개\n",
    "    'c1' : tf.Variable(initial_value=tf.random_normal(shape=[n_channel],stddev=stddev)),\n",
    "    'c2' : tf.Variable(initial_value=tf.random_normal(shape=[128], stddev=stddev)),\n",
    "    'd1' : tf.Variable(initial_value=tf.random_normal(shape=[n_classes], stddev=stddev))\n",
    "}\n",
    "print(\"Network Ready!!\")"
   ]
  },
  {
   "cell_type": "markdown",
   "metadata": {},
   "source": [
    "##### 2. Define Graph "
   ]
  },
  {
   "cell_type": "code",
   "execution_count": null,
   "metadata": {},
   "outputs": [],
   "source": [
    "def CNN(_x, _w, _b):\n",
    "    # Reshape\n",
    "    _x_r = tf.reshape(_x, shape=[-1,28,28,1])\n",
    "    # Convolution\n",
    "    _conv1 = tf.nn.conv2d(_x_r, _w['c1'], strides=[1,1,1,1], padding='SAME')\n",
    "    # Add Bias\n",
    "    _conv2 = tf.nn.bias_add(_conv1, _b['c1'])\n",
    "    # ReLU\n",
    "    _conv3 = tf.nn.relu(_conv2)\n",
    "    # Max Pool\n",
    "    _pool = tf.nn.max_pool(_conv3, ksize=[1,2,2,1], strides=[1,2,2,1], padding='SAME')\n",
    "    \n",
    "    # 2nd Convolutional Layer\n",
    "    _temp = tf.nn.conv2d(_pool, _w['c2'], strides=[1,1,1,1], padding='SAME')\n",
    "    _temp = tf.nn.bias_add(_temp, _b['c2'])\n",
    "    _temp = tf.nn.relu(_temp)\n",
    "    _temp = tf.nn.max_pool(_temp, ksize=[1,2,2,1], strides=[1,2,2,1], padding='SAME')\n",
    "    \n",
    "    # Vectorize\n",
    "    _dense = tf.reshape(_temp, shape=[-1, _w['d1'].get_shape() as_list()[0]])\n",
    "    # Dense"
   ]
  },
  {
   "cell_type": "code",
   "execution_count": null,
   "metadata": {},
   "outputs": [],
   "source": []
  },
  {
   "cell_type": "code",
   "execution_count": null,
   "metadata": {},
   "outputs": [],
   "source": []
  },
  {
   "cell_type": "code",
   "execution_count": null,
   "metadata": {},
   "outputs": [],
   "source": []
  }
 ],
 "metadata": {
  "kernelspec": {
   "display_name": "Python 3",
   "language": "python",
   "name": "python3"
  },
  "language_info": {
   "codemirror_mode": {
    "name": "ipython",
    "version": 3
   },
   "file_extension": ".py",
   "mimetype": "text/x-python",
   "name": "python",
   "nbconvert_exporter": "python",
   "pygments_lexer": "ipython3",
   "version": "3.6.6"
  }
 },
 "nbformat": 4,
 "nbformat_minor": 2
}
