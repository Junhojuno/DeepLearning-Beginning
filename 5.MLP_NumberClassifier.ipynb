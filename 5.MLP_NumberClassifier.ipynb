{
 "cells": [
  {
   "cell_type": "markdown",
   "metadata": {},
   "source": [
    "### Multi-Layer Perceptron\n",
    "- Dense layer, fully connected layer....\n",
    "- Hidden layer와 그 안에 activation을 추가한다."
   ]
  },
  {
   "cell_type": "code",
   "execution_count": 2,
   "metadata": {},
   "outputs": [
    {
     "name": "stdout",
     "output_type": "stream",
     "text": [
      "Current Tensorflow is [1.8.0]\n",
      "Packages Loaded.\n"
     ]
    }
   ],
   "source": [
    "import tensorflow as tf\n",
    "from tensorflow.examples.tutorials.mnist import input_data\n",
    "print(\"Current Tensorflow is [%s]\" % (tf.__version__))\n",
    "print(\"Packages Loaded.\")"
   ]
  },
  {
   "cell_type": "code",
   "execution_count": 4,
   "metadata": {},
   "outputs": [
    {
     "name": "stdout",
     "output_type": "stream",
     "text": [
      "Extracting data/train-images-idx3-ubyte.gz\n",
      "Extracting data/train-labels-idx1-ubyte.gz\n",
      "Extracting data/t10k-images-idx3-ubyte.gz\n",
      "Extracting data/t10k-labels-idx1-ubyte.gz\n"
     ]
    }
   ],
   "source": [
    "mnist = input_data.read_data_sets('data/', one_hot=True)"
   ]
  },
  {
   "cell_type": "markdown",
   "metadata": {},
   "source": [
    "##### 1. Parameter Setting"
   ]
  },
  {
   "cell_type": "code",
   "execution_count": 5,
   "metadata": {},
   "outputs": [
    {
     "name": "stdout",
     "output_type": "stream",
     "text": [
      "Network Ready!!!\n"
     ]
    }
   ],
   "source": [
    "n_input = 784\n",
    "n_hidden_1 = 256\n",
    "n_hidden_2 = 128\n",
    "n_classes = 10\n",
    "\n",
    "# set input and output\n",
    "x = tf.placeholder(dtype='float', shape=[None, n_input])\n",
    "y = tf.placeholder(dtype='float', shape=[None, n_classes])\n",
    "\n",
    "# set network parameters(weights, biases)\n",
    "stddev = 0.1\n",
    "weights = {\n",
    "    'h1' : tf.Variable(initial_value=tf.random_normal(shape=[n_input, n_hidden_1],stddev=stddev)),\n",
    "    'h2' : tf.Variable(initial_value=tf.random_normal(shape=[n_hidden_1, n_hidden_2], stddev=stddev)),\n",
    "    'out' : tf.Variable(initial_value=tf.random_normal(shape=[n_hidden_2, n_classes], stddev=stddev)),\n",
    "}\n",
    "biases = {\n",
    "    'b1' : tf.Variable(initial_value=tf.random_normal(shape=[n_hidden_1])),\n",
    "    'b2' : tf.Variable(initial_value=tf.random_normal(shape=[n_hidden_2])),\n",
    "    'out' : tf.Variable(initial_value=tf.random_normal(shape=[n_classes])),\n",
    "}\n",
    "print(\"Network Ready!!!\")"
   ]
  },
  {
   "cell_type": "markdown",
   "metadata": {},
   "source": [
    "##### 2. Define Graph"
   ]
  },
  {
   "cell_type": "code",
   "execution_count": 6,
   "metadata": {},
   "outputs": [
    {
     "name": "stdout",
     "output_type": "stream",
     "text": [
      "Function Ready!!!\n"
     ]
    }
   ],
   "source": [
    "# model\n",
    "def multilayer_perceptron(_x, _weights, _biases):\n",
    "    layer_1 = tf.nn.sigmoid(tf.add(tf.matmul(_x, _weights['h1']), _biases['b1']))\n",
    "    layer_2 = tf.nn.sigmoid(tf.add(tf.matmul(layer_1, _weights['h2']), _biases['b2']))\n",
    "    # return은 logit을 뽑아야 한다.(softmax 취하기 전 형태)\n",
    "    # softmax취해서 return하면 성능 떨어짐...\n",
    "    return (tf.matmul(layer_2, _weights['out']) + _biases['out']) \n",
    "\n",
    "# prediction\n",
    "pred = multilayer_perceptron(x, weights, biases)\n",
    "\n",
    "# Loss and Optimizer\n",
    "cost = tf.reduce_mean(tf.nn.softmax_cross_entropy_with_logits_v2(labels=y, logits=pred))\n",
    "optimizer = tf.train.AdamOptimizer(learning_rate=0.001).minimize(cost)\n",
    "correct = tf.equal(tf.argmax(pred, 1), tf.argmax(y, 1))\n",
    "accuracy = tf.reduce_mean(tf.cast(correct, 'float'))\n",
    "\n",
    "# Initialize\n",
    "init = tf.global_variables_initializer()\n",
    "print(\"Function Ready!!!\")"
   ]
  },
  {
   "cell_type": "markdown",
   "metadata": {},
   "source": [
    "##### 3. Run"
   ]
  },
  {
   "cell_type": "code",
   "execution_count": 7,
   "metadata": {
    "scrolled": true
   },
   "outputs": [
    {
     "name": "stdout",
     "output_type": "stream",
     "text": [
      "Epoch: 003/020 cost: 0.119634462\n",
      "Train Accuracy: 0.980\n",
      "Test Accuracy: 0.964\n",
      "Epoch: 007/020 cost: 0.047141746\n",
      "Train Accuracy: 0.990\n",
      "Test Accuracy: 0.975\n",
      "Epoch: 011/020 cost: 0.018645706\n",
      "Train Accuracy: 1.000\n",
      "Test Accuracy: 0.977\n",
      "Epoch: 015/020 cost: 0.006685954\n",
      "Train Accuracy: 1.000\n",
      "Test Accuracy: 0.981\n",
      "Epoch: 019/020 cost: 0.002408720\n",
      "Train Accuracy: 1.000\n",
      "Test Accuracy: 0.979\n",
      "Optimization Finished!!\n"
     ]
    }
   ],
   "source": [
    "training_epochs = 20\n",
    "batch_size = 100\n",
    "display_step = 4\n",
    "\n",
    "# Launch the Graph\n",
    "sess = tf.Session()\n",
    "sess.run(init)\n",
    "\n",
    "# Optimize\n",
    "for epoch in range(training_epochs):\n",
    "    avg_cost = 0\n",
    "    total_batch = int(mnist.train.num_examples / batch_size)\n",
    "    # Iteration\n",
    "    for i in range(total_batch):\n",
    "        batch_xs, batch_ys = mnist.train.next_batch(batch_size=batch_size)\n",
    "        feeds = {x: batch_xs, y: batch_ys}\n",
    "        sess.run(optimizer, feed_dict=feeds)\n",
    "        avg_cost += sess.run(cost, feed_dict=feeds)\n",
    "    avg_cost = avg_cost / total_batch\n",
    "    # Display\n",
    "    if (epoch+1) % display_step == 0:\n",
    "        print(\"Epoch: %03d/%03d cost: %.9f\" % (epoch, training_epochs, avg_cost))\n",
    "        feeds = {x: batch_xs, y: batch_ys}\n",
    "        train_acc = sess.run(accuracy, feed_dict=feeds)\n",
    "        print(\"Train Accuracy: %.3f\" % (train_acc))\n",
    "        feeds = {x: mnist.test.images, y: mnist.test.labels}\n",
    "        test_acc = sess.run(accuracy, feed_dict=feeds)\n",
    "        print(\"Test Accuracy: %.3f\" % (test_acc))\n",
    "print(\"Optimization Finished!!\")"
   ]
  },
  {
   "cell_type": "markdown",
   "metadata": {},
   "source": [
    "-----\n",
    "-----"
   ]
  },
  {
   "cell_type": "markdown",
   "metadata": {},
   "source": [
    "### Layer를 하나 더 추가해보자!!"
   ]
  },
  {
   "cell_type": "code",
   "execution_count": 8,
   "metadata": {
    "scrolled": true
   },
   "outputs": [
    {
     "name": "stdout",
     "output_type": "stream",
     "text": [
      "Network Ready!!!\n"
     ]
    }
   ],
   "source": [
    "n_input = 784\n",
    "n_hidden_1 = 256\n",
    "n_hidden_2 = 128\n",
    "n_hidden_3 = 64\n",
    "n_classes = 10\n",
    "\n",
    "# set input and output\n",
    "x = tf.placeholder(dtype='float', shape=[None, n_input])\n",
    "y = tf.placeholder(dtype='float', shape=[None, n_classes])\n",
    "\n",
    "# set network parameters(weights, biases)\n",
    "stddev = 0.1\n",
    "weights = {\n",
    "    'h1' : tf.Variable(initial_value=tf.random_normal(shape=[n_input, n_hidden_1],stddev=stddev)),\n",
    "    'h2' : tf.Variable(initial_value=tf.random_normal(shape=[n_hidden_1, n_hidden_2], stddev=stddev)),\n",
    "    'h3' : tf.Variable(initial_value=tf.random_normal(shape=[n_hidden_2, n_hidden_3], stddev=stddev)),\n",
    "    'out' : tf.Variable(initial_value=tf.random_normal(shape=[n_hidden_3, n_classes], stddev=stddev)),\n",
    "}\n",
    "biases = {\n",
    "    'b1' : tf.Variable(initial_value=tf.random_normal(shape=[n_hidden_1])),\n",
    "    'b2' : tf.Variable(initial_value=tf.random_normal(shape=[n_hidden_2])),\n",
    "    'b3' : tf.Variable(initial_value=tf.random_normal(shape=[n_hidden_3])),\n",
    "    'out' : tf.Variable(initial_value=tf.random_normal(shape=[n_classes])),\n",
    "}\n",
    "print(\"Network Ready!!!\")"
   ]
  },
  {
   "cell_type": "markdown",
   "metadata": {},
   "source": [
    "##### 2. Define Graph"
   ]
  },
  {
   "cell_type": "code",
   "execution_count": 9,
   "metadata": {
    "scrolled": true
   },
   "outputs": [
    {
     "name": "stdout",
     "output_type": "stream",
     "text": [
      "Function Ready!!!\n"
     ]
    }
   ],
   "source": [
    "# model\n",
    "def multilayer_perceptron(_x, _weights, _biases):\n",
    "    layer_1 = tf.nn.sigmoid(tf.add(tf.matmul(_x, _weights['h1']), _biases['b1']))\n",
    "    layer_2 = tf.nn.sigmoid(tf.add(tf.matmul(layer_1, _weights['h2']), _biases['b2']))\n",
    "    layer_3 = tf.nn.sigmoid(tf.add(tf.matmul(layer_2, _weights['h3']), _biases['b3']))\n",
    "    # return은 logit을 뽑아야 한다.(softmax 취하기 전 형태)\n",
    "    # softmax취해서 return하면 성능 떨어짐...\n",
    "    return (tf.matmul(layer_3, _weights['out']) + _biases['out']) \n",
    "\n",
    "# prediction\n",
    "pred = multilayer_perceptron(x, weights, biases)\n",
    "\n",
    "# Loss and Optimizer\n",
    "cost = tf.reduce_mean(tf.nn.softmax_cross_entropy_with_logits_v2(labels=y, logits=pred))\n",
    "optimizer = tf.train.AdamOptimizer(learning_rate=0.001).minimize(cost)\n",
    "correct = tf.equal(tf.argmax(pred, 1), tf.argmax(y, 1))\n",
    "accuracy = tf.reduce_mean(tf.cast(correct, 'float'))\n",
    "\n",
    "# Initialize\n",
    "init = tf.global_variables_initializer()\n",
    "print(\"Function Ready!!!\")"
   ]
  },
  {
   "cell_type": "markdown",
   "metadata": {},
   "source": [
    "##### 3. Run"
   ]
  },
  {
   "cell_type": "code",
   "execution_count": 10,
   "metadata": {
    "scrolled": true
   },
   "outputs": [
    {
     "name": "stdout",
     "output_type": "stream",
     "text": [
      "Epoch: 003/020 cost: 0.102501633\n",
      "Train Accuracy: 0.960\n",
      "Test Accuracy: 0.969\n",
      "Epoch: 007/020 cost: 0.037342136\n",
      "Train Accuracy: 0.970\n",
      "Test Accuracy: 0.976\n",
      "Epoch: 011/020 cost: 0.013805277\n",
      "Train Accuracy: 1.000\n",
      "Test Accuracy: 0.977\n",
      "Epoch: 015/020 cost: 0.004840158\n",
      "Train Accuracy: 1.000\n",
      "Test Accuracy: 0.973\n",
      "Epoch: 019/020 cost: 0.002882367\n",
      "Train Accuracy: 1.000\n",
      "Test Accuracy: 0.978\n",
      "Optimization Finished!!\n"
     ]
    }
   ],
   "source": [
    "training_epochs = 20\n",
    "batch_size = 100\n",
    "display_step = 4\n",
    "\n",
    "# Launch the Graph\n",
    "sess = tf.Session()\n",
    "sess.run(init)\n",
    "\n",
    "# Optimize\n",
    "for epoch in range(training_epochs):\n",
    "    avg_cost = 0\n",
    "    total_batch = int(mnist.train.num_examples / batch_size)\n",
    "    # Iteration\n",
    "    for i in range(total_batch):\n",
    "        batch_xs, batch_ys = mnist.train.next_batch(batch_size=batch_size)\n",
    "        feeds = {x: batch_xs, y: batch_ys}\n",
    "        sess.run(optimizer, feed_dict=feeds)\n",
    "        avg_cost += sess.run(cost, feed_dict=feeds)\n",
    "    avg_cost = avg_cost / total_batch\n",
    "    # Display\n",
    "    if (epoch+1) % display_step == 0:\n",
    "        print(\"Epoch: %03d/%03d cost: %.9f\" % (epoch, training_epochs, avg_cost))\n",
    "        feeds = {x: batch_xs, y: batch_ys}\n",
    "        train_acc = sess.run(accuracy, feed_dict=feeds)\n",
    "        print(\"Train Accuracy: %.3f\" % (train_acc))\n",
    "        feeds = {x: mnist.test.images, y: mnist.test.labels}\n",
    "        test_acc = sess.run(accuracy, feed_dict=feeds)\n",
    "        print(\"Test Accuracy: %.3f\" % (test_acc))\n",
    "print(\"Optimization Finished!!\")"
   ]
  },
  {
   "cell_type": "markdown",
   "metadata": {},
   "source": [
    "---\n",
    "---"
   ]
  },
  {
   "cell_type": "markdown",
   "metadata": {},
   "source": [
    "### Activation Funtion을 ReLU로 바꿔보자!!"
   ]
  },
  {
   "cell_type": "code",
   "execution_count": 12,
   "metadata": {
    "scrolled": true
   },
   "outputs": [
    {
     "name": "stdout",
     "output_type": "stream",
     "text": [
      "Network Ready!!!\n"
     ]
    }
   ],
   "source": [
    "n_input = 784\n",
    "n_hidden_1 = 256\n",
    "n_hidden_2 = 128\n",
    "n_hidden_3 = 64\n",
    "n_classes = 10\n",
    "\n",
    "# set input and output\n",
    "x = tf.placeholder(dtype='float', shape=[None, n_input])\n",
    "y = tf.placeholder(dtype='float', shape=[None, n_classes])\n",
    "\n",
    "# set network parameters(weights, biases)\n",
    "stddev = 0.1\n",
    "weights = {\n",
    "    'h1' : tf.Variable(initial_value=tf.random_normal(shape=[n_input, n_hidden_1],stddev=stddev)),\n",
    "    'h2' : tf.Variable(initial_value=tf.random_normal(shape=[n_hidden_1, n_hidden_2], stddev=stddev)),\n",
    "    'h3' : tf.Variable(initial_value=tf.random_normal(shape=[n_hidden_2, n_hidden_3], stddev=stddev)),\n",
    "    'out' : tf.Variable(initial_value=tf.random_normal(shape=[n_hidden_3, n_classes], stddev=stddev)),\n",
    "}\n",
    "biases = {\n",
    "    'b1' : tf.Variable(initial_value=tf.random_normal(shape=[n_hidden_1])),\n",
    "    'b2' : tf.Variable(initial_value=tf.random_normal(shape=[n_hidden_2])),\n",
    "    'b3' : tf.Variable(initial_value=tf.random_normal(shape=[n_hidden_3])),\n",
    "    'out' : tf.Variable(initial_value=tf.random_normal(shape=[n_classes])),\n",
    "}\n",
    "print(\"Network Ready!!!\")"
   ]
  },
  {
   "cell_type": "markdown",
   "metadata": {},
   "source": [
    "##### 2. Define Graph"
   ]
  },
  {
   "cell_type": "code",
   "execution_count": 13,
   "metadata": {
    "scrolled": true
   },
   "outputs": [
    {
     "name": "stdout",
     "output_type": "stream",
     "text": [
      "Function Ready!!!\n"
     ]
    }
   ],
   "source": [
    "# model\n",
    "def multilayer_perceptron(_x, _weights, _biases):\n",
    "    layer_1 = tf.nn.relu(tf.add(tf.matmul(_x, _weights['h1']), _biases['b1']))\n",
    "    layer_2 = tf.nn.relu(tf.add(tf.matmul(layer_1, _weights['h2']), _biases['b2']))\n",
    "    layer_3 = tf.nn.relu(tf.add(tf.matmul(layer_2, _weights['h3']), _biases['b3']))\n",
    "    # return은 logit을 뽑아야 한다.(softmax 취하기 전 형태)\n",
    "    # softmax취해서 return하면 성능 떨어짐...\n",
    "    return (tf.matmul(layer_3, _weights['out']) + _biases['out']) \n",
    "\n",
    "# prediction\n",
    "pred = multilayer_perceptron(x, weights, biases)\n",
    "\n",
    "# Loss and Optimizer\n",
    "cost = tf.reduce_mean(tf.nn.softmax_cross_entropy_with_logits_v2(labels=y, logits=pred))\n",
    "optimizer = tf.train.AdamOptimizer(learning_rate=0.001).minimize(cost)\n",
    "correct = tf.equal(tf.argmax(pred, 1), tf.argmax(y, 1))\n",
    "accuracy = tf.reduce_mean(tf.cast(correct, 'float'))\n",
    "\n",
    "# Initialize\n",
    "init = tf.global_variables_initializer()\n",
    "print(\"Function Ready!!!\")"
   ]
  },
  {
   "cell_type": "markdown",
   "metadata": {},
   "source": [
    "##### 3. Run"
   ]
  },
  {
   "cell_type": "code",
   "execution_count": 14,
   "metadata": {
    "scrolled": true
   },
   "outputs": [
    {
     "name": "stdout",
     "output_type": "stream",
     "text": [
      "Epoch: 003/020 cost: 0.040441343\n",
      "Train Accuracy: 1.000\n",
      "Test Accuracy: 0.974\n",
      "Epoch: 007/020 cost: 0.011998331\n",
      "Train Accuracy: 0.990\n",
      "Test Accuracy: 0.978\n",
      "Epoch: 011/020 cost: 0.004996898\n",
      "Train Accuracy: 1.000\n",
      "Test Accuracy: 0.979\n",
      "Epoch: 015/020 cost: 0.004258974\n",
      "Train Accuracy: 0.990\n",
      "Test Accuracy: 0.979\n",
      "Epoch: 019/020 cost: 0.002940170\n",
      "Train Accuracy: 1.000\n",
      "Test Accuracy: 0.978\n",
      "Optimization Finished!!\n"
     ]
    }
   ],
   "source": [
    "training_epochs = 20\n",
    "batch_size = 100\n",
    "display_step = 4\n",
    "\n",
    "# Launch the Graph\n",
    "sess = tf.Session()\n",
    "sess.run(init)\n",
    "\n",
    "# Optimize\n",
    "for epoch in range(training_epochs):\n",
    "    avg_cost = 0\n",
    "    total_batch = int(mnist.train.num_examples / batch_size)\n",
    "    # Iteration\n",
    "    for i in range(total_batch):\n",
    "        batch_xs, batch_ys = mnist.train.next_batch(batch_size=batch_size)\n",
    "        feeds = {x: batch_xs, y: batch_ys}\n",
    "        sess.run(optimizer, feed_dict=feeds)\n",
    "        avg_cost += sess.run(cost, feed_dict=feeds)\n",
    "    avg_cost = avg_cost / total_batch\n",
    "    # Display\n",
    "    if (epoch+1) % display_step == 0:\n",
    "        print(\"Epoch: %03d/%03d cost: %.9f\" % (epoch, training_epochs, avg_cost))\n",
    "        feeds = {x: batch_xs, y: batch_ys}\n",
    "        train_acc = sess.run(accuracy, feed_dict=feeds)\n",
    "        print(\"Train Accuracy: %.3f\" % (train_acc))\n",
    "        feeds = {x: mnist.test.images, y: mnist.test.labels}\n",
    "        test_acc = sess.run(accuracy, feed_dict=feeds)\n",
    "        print(\"Test Accuracy: %.3f\" % (test_acc))\n",
    "print(\"Optimization Finished!!\")"
   ]
  },
  {
   "cell_type": "markdown",
   "metadata": {},
   "source": [
    "다른거 손대지 않고 Graph만 바꿔주면 된다는 것이 TensorFlow의 장점!"
   ]
  }
 ],
 "metadata": {
  "kernelspec": {
   "display_name": "Python 3",
   "language": "python",
   "name": "python3"
  },
  "language_info": {
   "codemirror_mode": {
    "name": "ipython",
    "version": 3
   },
   "file_extension": ".py",
   "mimetype": "text/x-python",
   "name": "python",
   "nbconvert_exporter": "python",
   "pygments_lexer": "ipython3",
   "version": "3.6.6"
  }
 },
 "nbformat": 4,
 "nbformat_minor": 2
}
