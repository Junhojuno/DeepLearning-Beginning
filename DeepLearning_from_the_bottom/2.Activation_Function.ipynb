{
 "cells": [
  {
   "cell_type": "markdown",
   "metadata": {},
   "source": [
    "## Activation Function(활성화 함수)\n",
    ": 입력신호의 총합을 출력신호로 변환하는 함수 <br>\n",
    ": 크게 아래 **두 단계**에 걸쳐 처리된다.\n",
    "$$a = b + w_1*x_1 + w_2*x_2 \\text{ : 총합을 내는 단계}$$\n",
    "$$y = h(a) \\text{ : 활성화함수 h()에 입력해 결과를 내는 단계}$$"
   ]
  },
  {
   "cell_type": "markdown",
   "metadata": {},
   "source": [
    "### 1. Step Function\n",
    ": 활성화함수처럼 임계값을 경계로 출력이 바뀌는 함수를 Step Function이라 한다. "
   ]
  },
  {
   "cell_type": "code",
   "execution_count": 1,
   "metadata": {},
   "outputs": [],
   "source": [
    "# 계단함수 구현\n",
    "# numpy 트릭을 사용한다.\n",
    "def step_function(x):\n",
    "    y = x > 0\n",
    "    return y.astype(np.int)"
   ]
  },
  {
   "cell_type": "code",
   "execution_count": 5,
   "metadata": {},
   "outputs": [
    {
     "name": "stdout",
     "output_type": "stream",
     "text": [
      "[False  True  True]\n",
      "[0 1 1]\n"
     ]
    }
   ],
   "source": [
    "# example\n",
    "x = np.array([-1.0, 1.0, 2.0])\n",
    "y = x > 0\n",
    "print(y)\n",
    "y = y.astype(np.int)\n",
    "print(y)"
   ]
  },
  {
   "cell_type": "code",
   "execution_count": 6,
   "metadata": {},
   "outputs": [
    {
     "data": {
      "image/png": "[encoded data removed]",
      "text/plain": [
       "<Figure size 432x288 with 1 Axes>"
      ]
     },
     "metadata": {},
     "output_type": "display_data"
    }
   ],
   "source": [
    "# step funtion 시각화\n",
    "# step function을 한줄로 만들어보자\n",
    "def step_function(x):\n",
    "    return np.array(x > 0, dtype=np.int)\n",
    "\n",
    "x = np.arange(-5.0, 5.0, 0.1)\n",
    "y = step_function(x)\n",
    "plt.plot(x,y)\n",
    "plt.ylim(-0.1, 1.1) # y축 범위 지정\n",
    "plt.show()"
   ]
  },
  {
   "cell_type": "markdown",
   "metadata": {},
   "source": [
    "**계단 형식으로 나타나기 때문에 step function이라 한다.**"
   ]
  },
  {
   "cell_type": "markdown",
   "metadata": {},
   "source": [
    "### 2. Sigmoid Function\n",
    "$$sigmoid : h(x) = {1 \\over 1+exp(-x)}$$"
   ]
  },
  {
   "cell_type": "code",
   "execution_count": 7,
   "metadata": {},
   "outputs": [
    {
     "data": {
      "text/plain": [
       "array([0.26894142, 0.73105858, 0.88079708])"
      ]
     },
     "execution_count": 7,
     "metadata": {},
     "output_type": "execute_result"
    }
   ],
   "source": [
    "# sigmoid 구현\n",
    "def sigmoid(x):\n",
    "    return 1 / (1+np.exp(-x))\n",
    "\n",
    "# example\n",
    "x = np.array([-1.0, 1.0, 2.0])\n",
    "sigmoid(x)"
   ]
  },
  {
   "cell_type": "code",
   "execution_count": 8,
   "metadata": {},
   "outputs": [
    {
     "data": {
      "image/png": "[encoded data removed]",
      "text/plain": [
       "<Figure size 432x288 with 1 Axes>"
      ]
     },
     "metadata": {},
     "output_type": "display_data"
    }
   ],
   "source": [
    "# sigmoid 시각화\n",
    "x = np.arange(-5.0, 5.0, 0.1)\n",
    "y = sigmoid(x)\n",
    "plt.plot(x,y)\n",
    "plt.ylim(-0.1, 1.1) # y축 범위 지정\n",
    "plt.show()"
   ]
  },
  {
   "cell_type": "markdown",
   "metadata": {},
   "source": [
    "#### 2-1. Step function vs Sigmoid function?\n",
    "\n",
    "##### 차이점 : 매끄러움\n",
    ": step function은 0을 기준으로 출력이 확 뛰는데 반해, sigmoid function은 **입력에 따라 출력이 매끄럽게 변화한다.** <br>\n",
    ": **이로 인해, step function은 0 또는 1의 출력을 갖는 반면, sigmoid function은 0~1사이의 실수를 갖는다** <br>\n",
    ": **퍼셉트론에서는 뉴런/노드사이에 0 또는 1이 흘렀다면, 신경망에서는 연속적인 실수가 흐른다는 차이를 갖는다.**\n",
    "\n",
    "##### 공통점 \n",
    ": 입력이 작을수록 0에 가까운 출력을 내고, 입력이 커질수록 1에 가까운 출력을 낸다. <br>\n",
    ": 둘 다 비선형함수!"
   ]
  },
  {
   "cell_type": "markdown",
   "metadata": {},
   "source": [
    "#### 2-2. 신경망에서는 활성화함수로 비선형함수를 사용한다?\n",
    ": 선형함수를 사용하면 층(Layer)이 깊어지는 의미가 없어진다. <br>\n",
    ": 선형함수를 사용하면 3개층을 거치면 $y(x) = h(h(h(x)))$이 되는데, $h(x) = ax$일 때, 이 값은 $y(x) = a^3x$가 된다. <br>\n",
    ": 은닉층(hidden layer)을 거친 의미가 없다는..."
   ]
  },
  {
   "cell_type": "markdown",
   "metadata": {},
   "source": [
    "### 5. ReLU(Rectified Linear Unit)\n",
    ": 입력이 0을 넘으면 그대로 입력값을 출력, 0이하라면 0을 출력하는 함수\n",
    "$$ReLU : f(n)=\n",
    "\\begin{cases}\n",
    "x, & \\mbox{if }x\\mbox{ > 0} \\\\\n",
    "0, & \\mbox{if }x\\mbox{ <= 0}\n",
    "\\end{cases}$$"
   ]
  },
  {
   "cell_type": "code",
   "execution_count": 10,
   "metadata": {},
   "outputs": [
    {
     "data": {
      "image/png": "[encoded data removed]",
      "text/plain": [
       "<Figure size 432x288 with 1 Axes>"
      ]
     },
     "metadata": {},
     "output_type": "display_data"
    }
   ],
   "source": [
    "# ReLU 구현\n",
    "# np.maximum은 두 입력중 큰 값을 반환하는 함수\n",
    "def relu(x):\n",
    "    return np.maximum(0,x)\n",
    "\n",
    "# 시각화\n",
    "x = np.arange(-5.0, 5.0, 0.1)\n",
    "y = relu(x)\n",
    "plt.plot(x,y)\n",
    "plt.ylim(-0.1, 5.1) # y축 범위 지정\n",
    "plt.show()"
   ]
  }
 ],
 "metadata": {
  "kernelspec": {
   "display_name": "Python 3",
   "language": "python",
   "name": "python3"
  },
  "language_info": {
   "codemirror_mode": {
    "name": "ipython",
    "version": 3
   },
   "file_extension": ".py",
   "mimetype": "text/x-python",
   "name": "python",
   "nbconvert_exporter": "python",
   "pygments_lexer": "ipython3",
   "version": "3.6.6"
  }
 },
 "nbformat": 4,
 "nbformat_minor": 2
}
