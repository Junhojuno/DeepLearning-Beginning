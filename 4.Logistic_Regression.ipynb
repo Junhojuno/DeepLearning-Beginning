{
 "cells": [
  {
   "cell_type": "markdown",
   "metadata": {},
   "source": [
    "### Logistic Regression으로 숫자 분류기 구현\n",
    "##### Cross Entropy\n",
    ": 두 확률 분포 사이의 거리와 유사한 개념 \n",
    "- H(p,g) = $-\\sum_{i}p_i log(q_i)$\n",
    "- Neural Net에서는 p:target, q:estimation --> target distribution과 estimation distribution의 차이를 구한다.\n",
    "- **Cross Entropy in NN = $$-\\sum_{d=1}^{D}\\sum_{k=1}^{K}p(T_d=k) log(p(E_d=k)$$**\n",
    "    * T: Target, E: Estimation"
   ]
  },
  {
   "cell_type": "code",
   "execution_count": 5,
   "metadata": {},
   "outputs": [],
   "source": [
    "import tensorflow as tf\n",
    "from tensorflow.examples.tutorials.mnist import input_data"
   ]
  },
  {
   "cell_type": "code",
   "execution_count": 7,
   "metadata": {
    "scrolled": true
   },
   "outputs": [
    {
     "name": "stdout",
     "output_type": "stream",
     "text": [
      "Extracting data/train-images-idx3-ubyte.gz\n",
      "Extracting data/train-labels-idx1-ubyte.gz\n",
      "Extracting data/t10k-images-idx3-ubyte.gz\n",
      "Extracting data/t10k-labels-idx1-ubyte.gz\n",
      "MNIST loaded\n"
     ]
    }
   ],
   "source": [
    "mnist = input_data.read_data_sets('data/', one_hot=True)\n",
    "trainimg = mnist.train.images\n",
    "trainlabel = mnist.train.labels\n",
    "testimg = mnist.test.images\n",
    "testlabel = mnist.test.labels\n",
    "print(\"MNIST loaded\")"
   ]
  },
  {
   "cell_type": "markdown",
   "metadata": {},
   "source": [
    "##### 1. Set variables"
   ]
  },
  {
   "cell_type": "code",
   "execution_count": 8,
   "metadata": {},
   "outputs": [],
   "source": [
    "x = tf.placeholder(dtype=tf.float32, shape=[None, 784])\n",
    "y = tf.placeholder(dtype=tf.float32, shape=[None, 10])\n",
    "w = tf.Variable(tf.zeros([784,10]))\n",
    "b = tf.Variable(tf.zeros([10]))"
   ]
  },
  {
   "cell_type": "markdown",
   "metadata": {},
   "source": [
    "##### 2. Set Activation function & Cost function"
   ]
  },
  {
   "cell_type": "code",
   "execution_count": 10,
   "metadata": {},
   "outputs": [],
   "source": [
    "# logistic regression model\n",
    "activation = tf.nn.softmax(tf.matmul(x,w) + b)\n",
    "# cost function\n",
    "cost = -tf.reduce_mean(tf.reduce_sum(y*tf.log(activation), reduction_indices=1))"
   ]
  },
  {
   "cell_type": "markdown",
   "metadata": {},
   "source": [
    "##### 3. Set Optimizer & minimize the cost"
   ]
  },
  {
   "cell_type": "code",
   "execution_count": 12,
   "metadata": {},
   "outputs": [
    {
     "name": "stdout",
     "output_type": "stream",
     "text": [
      "Graphs Ready\n"
     ]
    }
   ],
   "source": [
    "# optimizer\n",
    "learning_rate = 0.01\n",
    "optimizer = tf.train.GradientDescentOptimizer(learning_rate=learning_rate).minimize(cost)\n",
    "print(\"Graphs Ready\")"
   ]
  },
  {
   "cell_type": "markdown",
   "metadata": {},
   "source": [
    "##### 4. Set Prediction & accuracy"
   ]
  },
  {
   "cell_type": "code",
   "execution_count": 13,
   "metadata": {},
   "outputs": [],
   "source": [
    "# prediction\n",
    "pred = tf.equal(tf.argmax(activation, 1), tf.argmax(y,1))\n",
    "# accuracy\n",
    "accuracy = tf.reduce_mean(tf.cast(pred, 'float'))"
   ]
  },
  {
   "cell_type": "markdown",
   "metadata": {},
   "source": [
    "##### 5.Train Model"
   ]
  },
  {
   "cell_type": "code",
   "execution_count": 14,
   "metadata": {},
   "outputs": [
    {
     "name": "stdout",
     "output_type": "stream",
     "text": [
      "Epoch: [000/050] cost : [1.17684] train_acc: [0.880]  test_acc: [0.852]\n",
      "Epoch: [005/050] cost : [0.44094] train_acc: [0.890]  test_acc: [0.894]\n",
      "Epoch: [010/050] cost : [0.38336] train_acc: [0.890]  test_acc: [0.905]\n",
      "Epoch: [015/050] cost : [0.35728] train_acc: [0.920]  test_acc: [0.909]\n",
      "Epoch: [020/050] cost : [0.34150] train_acc: [0.910]  test_acc: [0.912]\n",
      "Epoch: [025/050] cost : [0.33057] train_acc: [0.910]  test_acc: [0.914]\n",
      "Epoch: [030/050] cost : [0.32228] train_acc: [0.910]  test_acc: [0.916]\n",
      "Epoch: [035/050] cost : [0.31595] train_acc: [0.870]  test_acc: [0.917]\n",
      "Epoch: [040/050] cost : [0.31074] train_acc: [0.920]  test_acc: [0.917]\n",
      "Epoch: [045/050] cost : [0.30639] train_acc: [0.910]  test_acc: [0.918]\n",
      "Done!\n"
     ]
    }
   ],
   "source": [
    "training_epochs = 50\n",
    "batch_size = 100\n",
    "display_step = 5\n",
    "\n",
    "# session\n",
    "sess = tf.Session()\n",
    "sess.run(tf.global_variables_initializer()) # initialization\n",
    "\n",
    "# mini-batch learning\n",
    "for epoch in range(training_epochs):\n",
    "    avg_cost = 0\n",
    "    num_batch = int(mnist.train.num_examples/batch_size)\n",
    "    for i in range(num_batch):\n",
    "        batch_xs, batch_ys = mnist.train.next_batch(batch_size=batch_size)\n",
    "        sess.run(optimizer, feed_dict={x:batch_xs, y:batch_ys})\n",
    "        feed_dict={x:batch_xs, y:batch_ys}\n",
    "        avg_cost += sess.run(cost, feed_dict=feed_dict) / num_batch\n",
    "    # display\n",
    "    if epoch % display_step == 0:\n",
    "        feeds_train = {x:batch_xs, y:batch_ys}\n",
    "        feeds_test = {x: mnist.test.images, y:mnist.test.labels}\n",
    "        train_acc = sess.run(accuracy, feed_dict=feeds_train)\n",
    "        test_acc = sess.run(accuracy, feed_dict=feeds_test)\n",
    "        print(\"Epoch: [%03d/%03d] cost : [%.5f] train_acc: [%.3f]  test_acc: [%.3f]\" %\n",
    "              (epoch, training_epochs, avg_cost, train_acc, test_acc))\n",
    "print(\"Done!\")"
   ]
  }
 ],
 "metadata": {
  "kernelspec": {
   "display_name": "Python 3",
   "language": "python",
   "name": "python3"
  },
  "language_info": {
   "codemirror_mode": {
    "name": "ipython",
    "version": 3
   },
   "file_extension": ".py",
   "mimetype": "text/x-python",
   "name": "python",
   "nbconvert_exporter": "python",
   "pygments_lexer": "ipython3",
   "version": "3.6.6"
  }
 },
 "nbformat": 4,
 "nbformat_minor": 2
}
