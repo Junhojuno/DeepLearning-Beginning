{
 "cells": [
  {
   "cell_type": "markdown",
   "metadata": {},
   "source": [
    "# Naver Image Handling"
   ]
  },
  {
   "cell_type": "code",
   "execution_count": null,
   "metadata": {},
   "outputs": [],
   "source": []
  },
  {
   "cell_type": "markdown",
   "metadata": {},
   "source": [
    "## Process\n",
    "- Main image color를 불러와서 32x32 resize & convert(\"RGB\")\n",
    "- CNN 구성 \n",
    "- Validation 하면서 augmentation 동시에"
   ]
  },
  {
   "cell_type": "markdown",
   "metadata": {},
   "source": [
    "**1. 32x32 Resize & convert(\"RGB\") : feature 갯수 줄이고, shape[2]을 모두 3으로 맞춰준다**"
   ]
  },
  {
   "cell_type": "code",
   "execution_count": null,
   "metadata": {},
   "outputs": [],
   "source": [
    "import tensorflow as tf\n",
    "from PIL import Image as pil\n",
    "from scipy.misc import imread, imresize\n",
    "import os\n",
    "from scipy import ndimage\n",
    "from six.moves import urllib\n",
    "\n",
    "cwd = os.getcwd()\n",
    "cwd"
   ]
  },
  {
   "cell_type": "code",
   "execution_count": 2,
   "metadata": {},
   "outputs": [],
   "source": [
    "# 웹툰 labeling을 위한 dictionary를 만든다.\n",
    "\n",
    "# Load info\n",
    "info = pd.read_csv(\"data_Juno/webtoon_naver_info_by_genres.csv\")\n",
    "\n",
    "# make dict\n",
    "dic = {}\n",
    "for i, id in enumerate(info.unique_id):\n",
    "    dic[id] = i"
   ]
  },
  {
   "cell_type": "code",
   "execution_count": 4,
   "metadata": {},
   "outputs": [
    {
     "data": {
      "image/png": "[encoded data removed]",
      "text/plain": [
       "<PIL.Image.Image image mode=RGB size=32x32 at 0x21E6C38DDD8>"
      ]
     },
     "execution_count": 4,
     "metadata": {},
     "output_type": "execute_result"
    }
   ],
   "source": [
    "img = pil.open(\"0_img/main_image_naver/color/103391.png\")\n",
    "img.resize((32,32)).convert(\"RGB\")"
   ]
  },
  {
   "cell_type": "code",
   "execution_count": 14,
   "metadata": {
    "scrolled": true
   },
   "outputs": [
    {
     "name": "stdout",
     "output_type": "stream",
     "text": [
      "C:\\Users\\Juno\\Desktop\\juno_project\\Webtoon-Recommender_System./0_img/main_image_naver/color/\n",
      "now: 0 finished!!:\r",
      "now: 1 finished!!:\r",
      "now: 2 finished!!:\r",
      "now: 3 finished!!:\r",
      "now: 4 finished!!:\r",
      "now: 5 finished!!:\r",
      "now: 6 finished!!:\r",
      "now: 7 finished!!:\r",
      "now: 8 finished!!:\r",
      "now: 9 finished!!:\r",
      "now: 10 finished!!:\r",
      "now: 11 finished!!:\r",
      "now: 12 finished!!:\r",
      "now: 13 finished!!:\r",
      "now: 14 finished!!:\r",
      "now: 15 finished!!:\r",
      "now: 16 finished!!:\r",
      "now: 17 finished!!:\r",
      "now: 18 finished!!:\r",
      "now: 19 finished!!:\r",
      "now: 20 finished!!:\r",
      "now: 21 finished!!:\r"
     ]
    },
    {
     "name": "stderr",
     "output_type": "stream",
     "text": [
      "C:\\ProgramData\\Anaconda3\\lib\\site-packages\\ipykernel_launcher.py:13: DeprecationWarning: `imresize` is deprecated!\n",
      "`imresize` is deprecated in SciPy 1.0.0, and will be removed in 1.2.0.\n",
      "Use ``skimage.transform.resize`` instead.\n",
      "  del sys.path[0]\n"
     ]
    },
    {
     "name": "stdout",
     "output_type": "stream",
     "text": [
      "Total 745 images loaded.\n"
     ]
    }
   ],
   "source": [
    "path = cwd + \"./0_img/main_image_naver/color/\"\n",
    "print(path)\n",
    "flist = os.listdir(path)\n",
    "n_class = len(dic)\n",
    "imgcnt = 0\n",
    "for f in flist:\n",
    "    fullpath = os.path.join(path,f)\n",
    "    currimg = np.asarray(pil.open(fullpath).convert(\"RGB\"))\n",
    "    img = currimg / 255.\n",
    "#     print(img.shape)\n",
    "#     print(imresize(img, (64,64)).shape)\n",
    "#     print(img)\n",
    "    img_r = imresize(img, (32,32))\n",
    "    imgvec = np.reshape(img_r, (1,-1))\n",
    "    \n",
    "    # make labels\n",
    "    id_check = int(f.split(\".\")[0])\n",
    "    label = dic[id_check]\n",
    "    curr_label = np.eye(n_class, n_class)[label:label+1, :]\n",
    "    if imgcnt == 0:\n",
    "        totalimg = imgvec\n",
    "        totallabel = curr_label\n",
    "    else:\n",
    "        totalimg = np.concatenate((totalimg, imgvec), axis=0)\n",
    "        totallabel = np.concatenate((totallabel, curr_label), axis=0)\n",
    "    print(\"now: %s finished!!:\" % imgcnt, end='\\r')\n",
    "    imgcnt += 1\n",
    "print (\"Total %d images loaded.\" % (imgcnt))"
   ]
  },
  {
   "cell_type": "code",
   "execution_count": 15,
   "metadata": {},
   "outputs": [
    {
     "data": {
      "text/plain": [
       "((745, 3072), (745, 745))"
      ]
     },
     "execution_count": 15,
     "metadata": {},
     "output_type": "execute_result"
    }
   ],
   "source": [
    "totalimg.shape, totallabel.shape"
   ]
  },
  {
   "cell_type": "markdown",
   "metadata": {},
   "source": [
    "***.Image Augmentation (Zoom, Rotate)**"
   ]
  },
  {
   "cell_type": "code",
   "execution_count": 21,
   "metadata": {},
   "outputs": [],
   "source": [
    "# 아예 데이터 늘려버리기\n",
    "# AUGMENT TRAINING DATA (50배 뻥튀기)\n",
    "def expand_training_data(images, labels):\n",
    "    expanded_images = []\n",
    "    expanded_labels = []\n",
    "    j = 0 # counter\n",
    "    for x, y in zip(images, labels):\n",
    "        j = j+1\n",
    "        # APPEND ORIGINAL DATA\n",
    "        expanded_images.append(x)\n",
    "        expanded_labels.append(y)\n",
    "        # ASSUME MEDIAN COLOR TO BE BACKGROUND COLOR\n",
    "        bg_value = np.median(x) # this is regarded as background's value        \n",
    "        image = np.reshape(x, (32,32,3))\n",
    "        for i in range(50):\n",
    "            # ROTATE IMAGE\n",
    "            angle = np.random.randint(-15,15,1)\n",
    "            new_img = ndimage.rotate(image,angle,reshape=False, cval=bg_value)\n",
    "#             # SHIFT IAMGE\n",
    "#             shift = np.random.randint(-2, 2, 3)\n",
    "#             new_img_ = ndimage.shift(new_img,shift, cval=bg_value)\n",
    "\n",
    "            # Zoom\n",
    "            rg = 0.1\n",
    "            zoom_factor = np.random.uniform(1.,1.+rg)\n",
    "            h, w = new_img.shape[:2]\n",
    "            zh   = int(np.round(zoom_factor * h))\n",
    "            zw   = int(np.round(zoom_factor * w))\n",
    "            top  = (zh - h) // 2\n",
    "            left = (zw - w) // 2\n",
    "            zoom_tuple = (zoom_factor,) * 2 + (1,) * (new_img.ndim - 2)\n",
    "            temp = ndimage.zoom(new_img[top:top+zh, left:left+zw], zoom_tuple)\n",
    "            trim_top  = ((temp.shape[0] - h) // 2)\n",
    "            trim_left = ((temp.shape[1] - w) // 2)\n",
    "            new_img = temp[trim_top:trim_top+h, trim_left:trim_left+w]   \n",
    "            \n",
    "            # ADD TO THE LIST\n",
    "            expanded_images.append(np.reshape(new_img, 32*32*3))\n",
    "            expanded_labels.append(y)\n",
    "    expanded_train_total_data = np.concatenate((expanded_images, expanded_labels), axis=1)\n",
    "    np.random.shuffle(expanded_train_total_data)\n",
    "    return expanded_train_total_data"
   ]
  },
  {
   "cell_type": "code",
   "execution_count": 22,
   "metadata": {},
   "outputs": [],
   "source": [
    "import warnings\n",
    "warnings.filterwarnings(\"ignore\")\n",
    "augmented_total_data = expand_training_data(totalimg, totallabel)"
   ]
  },
  {
   "cell_type": "code",
   "execution_count": 23,
   "metadata": {},
   "outputs": [
    {
     "name": "stdout",
     "output_type": "stream",
     "text": [
      " TYPE AND SHAPE OF [  train_total_data ] ARE <class 'numpy.ndarray'> and  (37995, 3817)\n"
     ]
    }
   ],
   "source": [
    "# PRINT FUNCTION\n",
    "def print_np(x, str):\n",
    "    print (\" TYPE AND SHAPE OF [%18s ] ARE %s and %14s\" \n",
    "           % (str, type(x), x.shape,))\n",
    "print_np(augmented_total_data, 'train_total_data')"
   ]
  },
  {
   "cell_type": "code",
   "execution_count": 24,
   "metadata": {},
   "outputs": [],
   "source": [
    "totalimg_augment = augmented_total_data[:, :-745] / 255.\n",
    "totallabel_augment = augmented_total_data[:, -745:]"
   ]
  },
  {
   "cell_type": "code",
   "execution_count": 25,
   "metadata": {},
   "outputs": [
    {
     "data": {
      "text/plain": [
       "array([[0.54117647, 0.54117647, 0.54117647, ..., 0.54509804, 0.54509804,\n",
       "        0.54509804],\n",
       "       [0.00784314, 0.00784314, 0.00784314, ..., 0.08235294, 0.09411765,\n",
       "        0.09411765],\n",
       "       [0.19607843, 0.19607843, 0.19607843, ..., 0.19607843, 0.19607843,\n",
       "        0.19607843],\n",
       "       ...,\n",
       "       [0.40392157, 0.43529412, 0.43529412, ..., 0.41960784, 0.41960784,\n",
       "        0.41960784],\n",
       "       [0.84313725, 0.84313725, 0.84313725, ..., 0.95294118, 0.94901961,\n",
       "        0.91372549],\n",
       "       [0.69803922, 0.69803922, 0.69803922, ..., 0.69803922, 0.69803922,\n",
       "        0.69803922]])"
      ]
     },
     "execution_count": 25,
     "metadata": {},
     "output_type": "execute_result"
    }
   ],
   "source": [
    "totalimg_augment"
   ]
  },
  {
   "cell_type": "code",
   "execution_count": 26,
   "metadata": {},
   "outputs": [],
   "source": [
    "imgcnt = totalimg_augment.shape[0]"
   ]
  },
  {
   "cell_type": "code",
   "execution_count": 27,
   "metadata": {},
   "outputs": [
    {
     "name": "stdout",
     "output_type": "stream",
     "text": [
      "Shape of 'trainimg' is (22797, 3072)\n",
      "Shape of 'trainlabel' is (22797, 745)\n",
      "Shape of 'testimg' is (15198, 3072)\n",
      "Shape of 'testlabel' is (15198, 745)\n"
     ]
    }
   ],
   "source": [
    "# train, test split\n",
    "def print_shape(string, x):\n",
    "    print (\"Shape of '%s' is %s\" % (string, x.shape,))\n",
    "    \n",
    "randidx    = np.random.randint(imgcnt, size=imgcnt)\n",
    "trainidx   = randidx[0:int(3*imgcnt/5)]\n",
    "testidx    = randidx[int(3*imgcnt/5):imgcnt]\n",
    "trainimg   = totalimg_augment[trainidx, :]\n",
    "trainlabel = totallabel_augment[trainidx, :]\n",
    "testimg    = totalimg_augment[testidx, :]\n",
    "testlabel  = totallabel_augment[testidx, :]\n",
    "print_shape(\"trainimg\", trainimg)\n",
    "print_shape(\"trainlabel\", trainlabel)\n",
    "print_shape(\"testimg\", testimg)\n",
    "print_shape(\"testlabel\", testlabel)"
   ]
  },
  {
   "cell_type": "code",
   "execution_count": 28,
   "metadata": {},
   "outputs": [
    {
     "name": "stdout",
     "output_type": "stream",
     "text": [
      "SAVED TO [C:\\Users\\Juno\\Desktop\\juno_project\\Webtoon-Recommender_System./0_img/image_vector/mainset.npz]\n"
     ]
    }
   ],
   "source": [
    "# Save train/test image vector\n",
    "data_name = \"mainset\"\n",
    "imgsize = [32,32]\n",
    "savepath = cwd + \"./0_img/image_vector/\" + data_name + \".npz\"\n",
    "np.savez(savepath, trainimg=trainimg, trainlabel=trainlabel\n",
    "                , testimg=testimg, testlabel=testlabel\n",
    "                , imgsize=imgsize, categories=dic.values)\n",
    "print (\"SAVED TO [%s]\" % (savepath))"
   ]
  },
  {
   "cell_type": "code",
   "execution_count": 30,
   "metadata": {},
   "outputs": [
    {
     "name": "stdout",
     "output_type": "stream",
     "text": [
      "22797 train images loaded\n",
      "15198 test images loaded\n",
      "Loaded from to C:\\Users\\Juno\\Desktop\\juno_project\\Webtoon-Recommender_System./0_img/image_vector/mainset.npz\n"
     ]
    }
   ],
   "source": [
    "# Load them!\n",
    "cwd = os.getcwd()\n",
    "data_name = \"mainset\"\n",
    "loadpath = cwd + \"./0_img/image_vector/\" + data_name + \".npz\"\n",
    "l = np.load(loadpath)\n",
    "\n",
    "# See what's in here\n",
    "l.files\n",
    "\n",
    "# Parse data\n",
    "trainimg_loaded = l['trainimg']\n",
    "trainlabel_loaded = l['trainlabel']\n",
    "testimg_loaded = l['testimg']\n",
    "testlabel_loaded = l['testlabel']\n",
    "\n",
    "print (\"%d train images loaded\" % (trainimg_loaded.shape[0]))\n",
    "print (\"%d test images loaded\" % (testimg_loaded.shape[0]))\n",
    "print (\"Loaded from to %s\" % (loadpath))"
   ]
  },
  {
   "cell_type": "code",
   "execution_count": 32,
   "metadata": {},
   "outputs": [
    {
     "name": "stdout",
     "output_type": "stream",
     "text": [
      "(32, 32, 3)\n"
     ]
    },
    {
     "data": {
      "image/png": "[encoded data removed]",
      "text/plain": [
       "<Figure size 432x288 with 2 Axes>"
      ]
     },
     "metadata": {},
     "output_type": "display_data"
    },
    {
     "name": "stdout",
     "output_type": "stream",
     "text": [
      "(32, 32, 3)\n"
     ]
    },
    {
     "data": {
      "image/png": "[encoded data removed]",
      "text/plain": [
       "<Figure size 432x288 with 2 Axes>"
      ]
     },
     "metadata": {},
     "output_type": "display_data"
    },
    {
     "name": "stdout",
     "output_type": "stream",
     "text": [
      "(32, 32, 3)\n"
     ]
    },
    {
     "data": {
      "image/png": "[encoded data removed]",
      "text/plain": [
       "<Figure size 432x288 with 2 Axes>"
      ]
     },
     "metadata": {},
     "output_type": "display_data"
    },
    {
     "name": "stdout",
     "output_type": "stream",
     "text": [
      "(32, 32, 3)\n"
     ]
    },
    {
     "data": {
      "image/png": "[encoded data removed]",
      "text/plain": [
       "<Figure size 432x288 with 2 Axes>"
      ]
     },
     "metadata": {},
     "output_type": "display_data"
    },
    {
     "name": "stdout",
     "output_type": "stream",
     "text": [
      "(32, 32, 3)\n"
     ]
    },
    {
     "data": {
      "image/png": "[encoded data removed]",
      "text/plain": [
       "<Figure size 432x288 with 2 Axes>"
      ]
     },
     "metadata": {},
     "output_type": "display_data"
    }
   ],
   "source": [
    "# plot으로 잘 그려지는지 확인해보고~\n",
    "ntrain_loaded = trainimg_loaded.shape[0]\n",
    "batch_size = 5\n",
    "randidx = np.random.randint(ntrain_loaded, size=batch_size)\n",
    "imgsize = [32,32]\n",
    "for i in randidx: \n",
    "    currimg = np.reshape(trainimg_loaded[i, :], (imgsize[0], imgsize[1], -1))\n",
    "    print(currimg.shape)\n",
    "    currlabel_onehot = trainlabel_loaded[i, :]\n",
    "    currlabel = np.argmax(currlabel_onehot) \n",
    "    plt.imshow(currimg, cmap=plt.get_cmap('gray'))\n",
    "    plt.colorbar()\n",
    "    plt.grid(False)\n",
    "    title_string = \"[%d] %d-class\" % (i, currlabel)\n",
    "    plt.title(title_string) \n",
    "    plt.show()"
   ]
  },
  {
   "cell_type": "markdown",
   "metadata": {},
   "source": [
    "**2.CNN 구성**"
   ]
  },
  {
   "cell_type": "code",
   "execution_count": 33,
   "metadata": {},
   "outputs": [
    {
     "name": "stdout",
     "output_type": "stream",
     "text": [
      "Model is defined!!\n"
     ]
    }
   ],
   "source": [
    "# Define model\n",
    "n_input = 3072\n",
    "n_channel = 32 # convolution filter의 갯수\n",
    "n_classes = 745\n",
    "n_imgch = 3\n",
    "x = tf.placeholder(dtype='float', shape=[None, n_input])\n",
    "y = tf.placeholder(dtype='float', shape=[None, n_classes])\n",
    "\n",
    "stddev = 0.1\n",
    "# convolution filters\n",
    "weights = {\n",
    "    'c1' : tf.Variable(initial_value=tf.random_normal(shape=[3,3,n_imgch,n_channel], stddev=stddev)),\n",
    "    'c2' : tf.Variable(initial_value=tf.random_normal(shape=[3,3,n_channel,32], stddev=stddev)),\n",
    "    'c3' : tf.Variable(initial_value=tf.random_normal(shape=[3,3,32,32], stddev=stddev)),\n",
    "    'd1' : tf.Variable(initial_value=tf.random_normal(shape=[4*4*32,n_classes], stddev=stddev)),\n",
    "}\n",
    "biases = {\n",
    "    'c1' : tf.Variable(initial_value=tf.random_normal(shape=[n_channel], stddev=stddev)),\n",
    "    'c2' : tf.Variable(initial_value=tf.random_normal(shape=[32], stddev=stddev)),\n",
    "    'c3' : tf.Variable(initial_value=tf.random_normal(shape=[32], stddev=stddev)),\n",
    "    'd1' : tf.Variable(initial_value=tf.random_normal(shape=[n_classes], stddev=stddev)),\n",
    "}\n",
    "print(\"Model is defined!!\")"
   ]
  },
  {
   "cell_type": "code",
   "execution_count": 34,
   "metadata": {},
   "outputs": [
    {
     "name": "stdout",
     "output_type": "stream",
     "text": [
      "Function Ready!!\n"
     ]
    }
   ],
   "source": [
    "# Define Graph\n",
    "def CNN(_x, _w, _b):\n",
    "    # Reshape\n",
    "    _x_r = tf.reshape(_x, shape=[-1,32,32,3])\n",
    "    # Convolution\n",
    "    _conv1 = tf.nn.conv2d(_x_r, _w['c1'], strides=[1,1,1,1], padding='SAME') # zero-padding\n",
    "    # add bias\n",
    "    _conv2 = tf.nn.bias_add(_conv1, _b['c1'])\n",
    "    # Passing the ReLU\n",
    "    _conv3 = tf.nn.relu(_conv2)\n",
    "    # max pooling\n",
    "    # non-overlapping\n",
    "    _pool = tf.nn.max_pool(_conv3, ksize=[1,2,2,1], strides=[1,2,2,1], padding='SAME')\n",
    "    \n",
    "    # 2nd Convolutional Layer\n",
    "    _second = tf.nn.conv2d(_pool, _w['c2'], strides=[1,1,1,1], padding='SAME')\n",
    "    _second = tf.nn.bias_add(_second, _b['c2'])\n",
    "    _second = tf.nn.relu(_second)\n",
    "    _second = tf.nn.max_pool(_second, ksize=[1,2,2,1], strides=[1,2,2,1], padding='SAME')\n",
    "    \n",
    "    # 3rd Convolutional Layer\n",
    "    _third = tf.nn.conv2d(_second, _w['c3'], strides=[1,1,1,1], padding='SAME')\n",
    "    _third = tf.nn.bias_add(_third, _b['c3'])\n",
    "    _third = tf.nn.relu(_third)\n",
    "    _third = tf.nn.max_pool(_third, ksize=[1,2,2,1], strides=[1,2,2,1], padding='SAME')\n",
    "    \n",
    "    # fully connected layer, 한 줄로 쫙 편다.\n",
    "    _dense = tf.reshape(_third, shape=[-1,  _w['d1'].get_shape().as_list()[0]])\n",
    "    _logit = tf.add(tf.matmul(_dense, _w['d1']),_b['d1'])\n",
    "    \n",
    "    # Return to dict type\n",
    "    _out = {\n",
    "        'x_r':_x_r, 'conv1':_conv1, 'conv2' : _conv2, 'conv3': _conv3,\n",
    "        'pool': _pool, 'dense': _dense, 'logit':_logit\n",
    "    }\n",
    "    return _out\n",
    "\n",
    "cnnout = CNN(x, weights, biases)\n",
    "\n",
    "# cost and optimizer\n",
    "cost = tf.reduce_mean(tf.nn.softmax_cross_entropy_with_logits_v2(labels=y, logits=cnnout['logit']))\n",
    "optimizer = tf.train.AdamOptimizer(learning_rate=0.01).minimize(cost)\n",
    "correct = tf.equal(tf.argmax(cnnout['logit'],1), tf.argmax(y,1))\n",
    "accuracy = tf.reduce_mean(tf.cast(correct, 'float'))\n",
    "\n",
    "# initialize\n",
    "init = tf.global_variables_initializer()\n",
    "print(\"Function Ready!!\")"
   ]
  },
  {
   "cell_type": "code",
   "execution_count": null,
   "metadata": {},
   "outputs": [],
   "source": [
    "# Saver\n",
    "savedir = \"./3_NeuralNet_image/main_image/\"\n",
    "saver = tf.train.Saver(max_to_keep=3) # 최근 3개까지 저장하겠다.\n",
    "save_step = 4\n",
    "if not os.path.exists(savedir):\n",
    "    os.makedirs(savedir)\n",
    "print(\"Saver Ready!!\")"
   ]
  },
  {
   "cell_type": "code",
   "execution_count": 35,
   "metadata": {},
   "outputs": [
    {
     "name": "stdout",
     "output_type": "stream",
     "text": [
      "22797 TRAIN IMAGES\n",
      "15198 TEST IMAGES\n",
      "3072 DIMENSIONAL INPUT\n",
      "745 CLASSES\n",
      "[32, 32]\n",
      "categories:  <built-in method values of dict object at 0x0000021E6C2C7CF0>\n"
     ]
    }
   ],
   "source": [
    "ntrain = trainimg.shape[0]\n",
    "nclass = trainlabel.shape[1]\n",
    "dim    = trainimg.shape[1]\n",
    "ntest  = testimg.shape[0]\n",
    "print (\"%d TRAIN IMAGES\" % (ntrain))\n",
    "print (\"%d TEST IMAGES\" % (ntest))\n",
    "print (\"%d DIMENSIONAL INPUT\" % (dim))\n",
    "print (\"%d CLASSES\" % (nclass))\n",
    "print (imgsize)\n",
    "print (\"categories: \",dic.values)"
   ]
  },
  {
   "cell_type": "code",
   "execution_count": 36,
   "metadata": {
    "scrolled": false
   },
   "outputs": [
    {
     "name": "stdout",
     "output_type": "stream",
     "text": [
      "Epoch: 001/050 cost: 2.966025225\n",
      " TRAIN ACCURACY: 0.980\n",
      " TEST ACCURACY: 0.957\n",
      "Epoch: 002/050 cost: 0.026884271\n",
      " TRAIN ACCURACY: 1.000\n",
      " TEST ACCURACY: 0.981\n",
      "Epoch: 003/050 cost: 0.012303357\n",
      " TRAIN ACCURACY: 1.000\n",
      " TEST ACCURACY: 0.996\n",
      "Epoch: 004/050 cost: 0.005322812\n",
      " TRAIN ACCURACY: 1.000\n",
      " TEST ACCURACY: 0.996\n",
      "Epoch: 005/050 cost: 0.013713778\n",
      " TRAIN ACCURACY: 0.990\n",
      " TEST ACCURACY: 0.978\n",
      "Epoch: 006/050 cost: 0.010351568\n",
      " TRAIN ACCURACY: 1.000\n",
      " TEST ACCURACY: 0.993\n",
      "Epoch: 007/050 cost: 0.004569477\n",
      " TRAIN ACCURACY: 1.000\n",
      " TEST ACCURACY: 0.996\n",
      "Epoch: 008/050 cost: 0.012677261\n",
      " TRAIN ACCURACY: 1.000\n",
      " TEST ACCURACY: 0.993\n",
      "Epoch: 009/050 cost: 0.004827425\n",
      " TRAIN ACCURACY: 1.000\n",
      " TEST ACCURACY: 0.997\n",
      "Epoch: 010/050 cost: 0.003179842\n",
      " TRAIN ACCURACY: 1.000\n",
      " TEST ACCURACY: 0.999\n",
      "Epoch: 011/050 cost: 0.003476789\n",
      " TRAIN ACCURACY: 1.000\n",
      " TEST ACCURACY: 0.995\n",
      "Epoch: 012/050 cost: 0.004641453\n",
      " TRAIN ACCURACY: 1.000\n",
      " TEST ACCURACY: 0.992\n",
      "Epoch: 013/050 cost: 0.009603077\n",
      " TRAIN ACCURACY: 1.000\n",
      " TEST ACCURACY: 0.991\n",
      "Epoch: 014/050 cost: 0.006942324\n",
      " TRAIN ACCURACY: 1.000\n",
      " TEST ACCURACY: 0.995\n",
      "Epoch: 015/050 cost: 0.003718997\n",
      " TRAIN ACCURACY: 1.000\n",
      " TEST ACCURACY: 0.998\n",
      "Epoch: 016/050 cost: 0.002784544\n",
      " TRAIN ACCURACY: 1.000\n",
      " TEST ACCURACY: 0.998\n",
      "Epoch: 017/050 cost: 0.002693377\n",
      " TRAIN ACCURACY: 1.000\n",
      " TEST ACCURACY: 0.998\n",
      "Epoch: 018/050 cost: 0.002804882\n",
      " TRAIN ACCURACY: 1.000\n",
      " TEST ACCURACY: 0.999\n",
      "Epoch: 019/050 cost: 0.001885613\n",
      " TRAIN ACCURACY: 1.000\n",
      " TEST ACCURACY: 0.998\n",
      "Epoch: 020/050 cost: 0.002068548\n",
      " TRAIN ACCURACY: 1.000\n",
      " TEST ACCURACY: 0.998\n",
      "Epoch: 021/050 cost: 0.002253154\n",
      " TRAIN ACCURACY: 1.000\n",
      " TEST ACCURACY: 0.998\n",
      "Epoch: 022/050 cost: 0.005191999\n",
      " TRAIN ACCURACY: 1.000\n",
      " TEST ACCURACY: 0.976\n",
      "Epoch: 023/050 cost: 0.018793362\n",
      " TRAIN ACCURACY: 1.000\n",
      " TEST ACCURACY: 0.991\n",
      "Epoch: 024/050 cost: 0.006632438\n",
      " TRAIN ACCURACY: 1.000\n",
      " TEST ACCURACY: 0.994\n",
      "Epoch: 025/050 cost: 0.004967993\n",
      " TRAIN ACCURACY: 1.000\n",
      " TEST ACCURACY: 0.998\n",
      "Epoch: 026/050 cost: 0.002398032\n",
      " TRAIN ACCURACY: 0.980\n",
      " TEST ACCURACY: 0.998\n",
      "Epoch: 027/050 cost: 0.002189303\n",
      " TRAIN ACCURACY: 1.000\n",
      " TEST ACCURACY: 0.998\n",
      "Epoch: 028/050 cost: 0.001639152\n",
      " TRAIN ACCURACY: 1.000\n",
      " TEST ACCURACY: 0.998\n",
      "Epoch: 029/050 cost: 0.001796025\n",
      " TRAIN ACCURACY: 1.000\n",
      " TEST ACCURACY: 0.998\n",
      "Epoch: 030/050 cost: 0.002019852\n",
      " TRAIN ACCURACY: 0.990\n",
      " TEST ACCURACY: 0.997\n",
      "Epoch: 031/050 cost: 0.001945163\n",
      " TRAIN ACCURACY: 1.000\n",
      " TEST ACCURACY: 0.999\n",
      "Epoch: 032/050 cost: 0.001204661\n",
      " TRAIN ACCURACY: 1.000\n",
      " TEST ACCURACY: 0.999\n",
      "Epoch: 033/050 cost: 0.001492137\n",
      " TRAIN ACCURACY: 1.000\n",
      " TEST ACCURACY: 0.999\n",
      "Epoch: 034/050 cost: 0.001212223\n",
      " TRAIN ACCURACY: 1.000\n",
      " TEST ACCURACY: 0.999\n",
      "Epoch: 035/050 cost: 0.002028816\n",
      " TRAIN ACCURACY: 1.000\n",
      " TEST ACCURACY: 0.997\n",
      "Epoch: 036/050 cost: 0.009992916\n",
      " TRAIN ACCURACY: 1.000\n",
      " TEST ACCURACY: 0.987\n",
      "Epoch: 037/050 cost: 0.010501063\n",
      " TRAIN ACCURACY: 1.000\n",
      " TEST ACCURACY: 0.996\n",
      "Epoch: 038/050 cost: 0.003189408\n",
      " TRAIN ACCURACY: 1.000\n",
      " TEST ACCURACY: 0.996\n",
      "Epoch: 039/050 cost: 0.002604315\n",
      " TRAIN ACCURACY: 1.000\n",
      " TEST ACCURACY: 0.998\n",
      "Epoch: 040/050 cost: 0.002687415\n",
      " TRAIN ACCURACY: 0.990\n",
      " TEST ACCURACY: 0.995\n",
      "Epoch: 041/050 cost: 0.004491403\n",
      " TRAIN ACCURACY: 1.000\n",
      " TEST ACCURACY: 0.998\n",
      "Epoch: 042/050 cost: 0.003226955\n",
      " TRAIN ACCURACY: 1.000\n",
      " TEST ACCURACY: 0.998\n",
      "Epoch: 043/050 cost: 0.002485951\n",
      " TRAIN ACCURACY: 1.000\n",
      " TEST ACCURACY: 0.998\n",
      "Epoch: 044/050 cost: 0.003300069\n",
      " TRAIN ACCURACY: 0.980\n",
      " TEST ACCURACY: 0.996\n",
      "Epoch: 045/050 cost: 0.003674305\n",
      " TRAIN ACCURACY: 0.990\n",
      " TEST ACCURACY: 0.996\n",
      "Epoch: 046/050 cost: 0.002740453\n",
      " TRAIN ACCURACY: 1.000\n",
      " TEST ACCURACY: 0.995\n",
      "Epoch: 047/050 cost: 0.004118824\n",
      " TRAIN ACCURACY: 1.000\n",
      " TEST ACCURACY: 0.997\n",
      "Epoch: 048/050 cost: 0.002050786\n",
      " TRAIN ACCURACY: 1.000\n",
      " TEST ACCURACY: 0.993\n",
      "Epoch: 049/050 cost: 0.006971029\n",
      " TRAIN ACCURACY: 1.000\n",
      " TEST ACCURACY: 0.994\n",
      "Epoch: 050/050 cost: 0.006135208\n",
      " TRAIN ACCURACY: 1.000\n",
      " TEST ACCURACY: 0.997\n"
     ]
    }
   ],
   "source": [
    "# RUN\n",
    "# PARAMETERS\n",
    "training_epochs = 50\n",
    "batch_size      = 100\n",
    "disp_each       = 1\n",
    "\n",
    "# LAUNCH THE GRAPH\n",
    "sess = tf.Session()\n",
    "sess.run(init)\n",
    "\n",
    "# OPTIMIZE\n",
    "for epoch in range(training_epochs):\n",
    "    total_batch = int(ntrain/batch_size)\n",
    "    random_permut = np.random.permutation(ntrain)\n",
    "    sum_cost = 0\n",
    "    for i in range(total_batch):\n",
    "        randidx = random_permut[i*batch_size:min((i+1)*batch_size, ntrain-1)]\n",
    "        batch_xs = trainimg[randidx,:]\n",
    "        batch_ys = trainlabel[randidx, :]\n",
    "#         print(batch_xs.shape, batch_ys.shape)\n",
    "        sess.run(optimizer, feed_dict={x: batch_xs, y: batch_ys})\n",
    "        sum_cost += sess.run(cost, feed_dict={x: batch_xs, y: batch_ys})\n",
    "    avg_cost = sum_cost / total_batch\n",
    "    # DISPLAY\n",
    "    if (epoch+1) % disp_each == 0 or epoch == training_epochs-1:\n",
    "        print (\"Epoch: %03d/%03d cost: %.9f\" % (epoch+1, training_epochs, avg_cost))\n",
    "        feeds = {x: batch_xs, y: batch_ys}\n",
    "        train_acc = sess.run(accuracy, feed_dict=feeds)\n",
    "        print (\" TRAIN ACCURACY: %.3f\" % (train_acc))\n",
    "        feeds = {x: testimg, y: testlabel}\n",
    "        test_acc = sess.run(accuracy, feed_dict=feeds)\n",
    "        print (\" TEST ACCURACY: %.3f\" % (test_acc))"
   ]
  },
  {
   "cell_type": "code",
   "execution_count": 37,
   "metadata": {},
   "outputs": [
    {
     "name": "stdout",
     "output_type": "stream",
     "text": [
      "Model saved in path: ./0_img/model.ckpt\n"
     ]
    }
   ],
   "source": [
    "saver = tf.train.Saver()\n",
    "save_path = saver.save(sess, \"./0_img/model.ckpt\")\n",
    "print(\"Model saved in path: %s\" % save_path)"
   ]
  }
 ],
 "metadata": {
  "kernelspec": {
   "display_name": "Python 3",
   "language": "python",
   "name": "python3"
  },
  "language_info": {
   "codemirror_mode": {
    "name": "ipython",
    "version": 3
   },
   "file_extension": ".py",
   "mimetype": "text/x-python",
   "name": "python",
   "nbconvert_exporter": "python",
   "pygments_lexer": "ipython3",
   "version": "3.6.6"
  }
 },
 "nbformat": 4,
 "nbformat_minor": 2
}
